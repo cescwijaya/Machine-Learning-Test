{
 "cells": [
  {
   "cell_type": "code",
   "execution_count": 1,
   "id": "71b1f56d",
   "metadata": {
    "_cell_guid": "b1076dfc-b9ad-4769-8c92-a6c4dae69d19",
    "_uuid": "8f2839f25d086af736a60e9eeb907d3b93b6e0e5",
    "execution": {
     "iopub.execute_input": "2021-12-16T06:44:05.605408Z",
     "iopub.status.busy": "2021-12-16T06:44:05.604723Z",
     "iopub.status.idle": "2021-12-16T06:44:05.618142Z",
     "shell.execute_reply": "2021-12-16T06:44:05.619027Z",
     "shell.execute_reply.started": "2021-12-15T00:51:03.940463Z"
    },
    "papermill": {
     "duration": 0.045722,
     "end_time": "2021-12-16T06:44:05.619443",
     "exception": false,
     "start_time": "2021-12-16T06:44:05.573721",
     "status": "completed"
    },
    "tags": []
   },
   "outputs": [
    {
     "name": "stdout",
     "output_type": "stream",
     "text": [
      "/kaggle/input/heart-disease-uci/heart.csv\n"
     ]
    }
   ],
   "source": [
    "# This Python 3 environment comes with many helpful analytics libraries installed\n",
    "# It is defined by the kaggle/python Docker image: https://github.com/kaggle/docker-python\n",
    "# For example, here's several helpful packages to load\n",
    "\n",
    "import numpy as np # linear algebra\n",
    "import pandas as pd # data processing, CSV file I/O (e.g. pd.read_csv)\n",
    "\n",
    "# Input data files are available in the read-only \"../input/\" directory\n",
    "# For example, running this (by clicking run or pressing Shift+Enter) will list all files under the input directory\n",
    "\n",
    "import os\n",
    "for dirname, _, filenames in os.walk('/kaggle/input'):\n",
    "    for filename in filenames:\n",
    "        print(os.path.join(dirname, filename))\n",
    "\n",
    "# You can write up to 20GB to the current directory (/kaggle/working/) that gets preserved as output when you create a version using \"Save & Run All\" \n",
    "# You can also write temporary files to /kaggle/temp/, but they won't be saved outside of the current session"
   ]
  },
  {
   "cell_type": "code",
   "execution_count": 2,
   "id": "379337df",
   "metadata": {
    "execution": {
     "iopub.execute_input": "2021-12-16T06:44:05.664131Z",
     "iopub.status.busy": "2021-12-16T06:44:05.663519Z",
     "iopub.status.idle": "2021-12-16T06:44:06.959172Z",
     "shell.execute_reply": "2021-12-16T06:44:06.959822Z",
     "shell.execute_reply.started": "2021-12-15T00:51:03.957672Z"
    },
    "papermill": {
     "duration": 1.319137,
     "end_time": "2021-12-16T06:44:06.960003",
     "exception": false,
     "start_time": "2021-12-16T06:44:05.640866",
     "status": "completed"
    },
    "tags": []
   },
   "outputs": [],
   "source": [
    "import numpy as np\n",
    "import pandas as pd\n",
    "import matplotlib.pyplot as plt\n",
    "import seaborn as sns\n",
    "import sklearn.datasets\n",
    "from sklearn.model_selection import train_test_split\n",
    "from sklearn import metrics\n",
    "from xgboost import XGBRegressor"
   ]
  },
  {
   "cell_type": "code",
   "execution_count": 3,
   "id": "6f8145d9",
   "metadata": {
    "execution": {
     "iopub.execute_input": "2021-12-16T06:44:07.005201Z",
     "iopub.status.busy": "2021-12-16T06:44:07.004476Z",
     "iopub.status.idle": "2021-12-16T06:44:07.014955Z",
     "shell.execute_reply": "2021-12-16T06:44:07.015496Z",
     "shell.execute_reply.started": "2021-12-15T00:51:05.55403Z"
    },
    "papermill": {
     "duration": 0.035296,
     "end_time": "2021-12-16T06:44:07.015678",
     "exception": false,
     "start_time": "2021-12-16T06:44:06.980382",
     "status": "completed"
    },
    "tags": []
   },
   "outputs": [],
   "source": [
    "dataset = sklearn.datasets.load_boston()"
   ]
  },
  {
   "cell_type": "code",
   "execution_count": 4,
   "id": "2248aaac",
   "metadata": {
    "execution": {
     "iopub.execute_input": "2021-12-16T06:44:07.059877Z",
     "iopub.status.busy": "2021-12-16T06:44:07.058954Z",
     "iopub.status.idle": "2021-12-16T06:44:07.070034Z",
     "shell.execute_reply": "2021-12-16T06:44:07.070938Z",
     "shell.execute_reply.started": "2021-12-15T00:51:05.571312Z"
    },
    "papermill": {
     "duration": 0.035558,
     "end_time": "2021-12-16T06:44:07.071165",
     "exception": false,
     "start_time": "2021-12-16T06:44:07.035607",
     "status": "completed"
    },
    "tags": []
   },
   "outputs": [
    {
     "name": "stdout",
     "output_type": "stream",
     "text": [
      "{'data': array([[6.3200e-03, 1.8000e+01, 2.3100e+00, ..., 1.5300e+01, 3.9690e+02,\n",
      "        4.9800e+00],\n",
      "       [2.7310e-02, 0.0000e+00, 7.0700e+00, ..., 1.7800e+01, 3.9690e+02,\n",
      "        9.1400e+00],\n",
      "       [2.7290e-02, 0.0000e+00, 7.0700e+00, ..., 1.7800e+01, 3.9283e+02,\n",
      "        4.0300e+00],\n",
      "       ...,\n",
      "       [6.0760e-02, 0.0000e+00, 1.1930e+01, ..., 2.1000e+01, 3.9690e+02,\n",
      "        5.6400e+00],\n",
      "       [1.0959e-01, 0.0000e+00, 1.1930e+01, ..., 2.1000e+01, 3.9345e+02,\n",
      "        6.4800e+00],\n",
      "       [4.7410e-02, 0.0000e+00, 1.1930e+01, ..., 2.1000e+01, 3.9690e+02,\n",
      "        7.8800e+00]]), 'target': array([24. , 21.6, 34.7, 33.4, 36.2, 28.7, 22.9, 27.1, 16.5, 18.9, 15. ,\n",
      "       18.9, 21.7, 20.4, 18.2, 19.9, 23.1, 17.5, 20.2, 18.2, 13.6, 19.6,\n",
      "       15.2, 14.5, 15.6, 13.9, 16.6, 14.8, 18.4, 21. , 12.7, 14.5, 13.2,\n",
      "       13.1, 13.5, 18.9, 20. , 21. , 24.7, 30.8, 34.9, 26.6, 25.3, 24.7,\n",
      "       21.2, 19.3, 20. , 16.6, 14.4, 19.4, 19.7, 20.5, 25. , 23.4, 18.9,\n",
      "       35.4, 24.7, 31.6, 23.3, 19.6, 18.7, 16. , 22.2, 25. , 33. , 23.5,\n",
      "       19.4, 22. , 17.4, 20.9, 24.2, 21.7, 22.8, 23.4, 24.1, 21.4, 20. ,\n",
      "       20.8, 21.2, 20.3, 28. , 23.9, 24.8, 22.9, 23.9, 26.6, 22.5, 22.2,\n",
      "       23.6, 28.7, 22.6, 22. , 22.9, 25. , 20.6, 28.4, 21.4, 38.7, 43.8,\n",
      "       33.2, 27.5, 26.5, 18.6, 19.3, 20.1, 19.5, 19.5, 20.4, 19.8, 19.4,\n",
      "       21.7, 22.8, 18.8, 18.7, 18.5, 18.3, 21.2, 19.2, 20.4, 19.3, 22. ,\n",
      "       20.3, 20.5, 17.3, 18.8, 21.4, 15.7, 16.2, 18. , 14.3, 19.2, 19.6,\n",
      "       23. , 18.4, 15.6, 18.1, 17.4, 17.1, 13.3, 17.8, 14. , 14.4, 13.4,\n",
      "       15.6, 11.8, 13.8, 15.6, 14.6, 17.8, 15.4, 21.5, 19.6, 15.3, 19.4,\n",
      "       17. , 15.6, 13.1, 41.3, 24.3, 23.3, 27. , 50. , 50. , 50. , 22.7,\n",
      "       25. , 50. , 23.8, 23.8, 22.3, 17.4, 19.1, 23.1, 23.6, 22.6, 29.4,\n",
      "       23.2, 24.6, 29.9, 37.2, 39.8, 36.2, 37.9, 32.5, 26.4, 29.6, 50. ,\n",
      "       32. , 29.8, 34.9, 37. , 30.5, 36.4, 31.1, 29.1, 50. , 33.3, 30.3,\n",
      "       34.6, 34.9, 32.9, 24.1, 42.3, 48.5, 50. , 22.6, 24.4, 22.5, 24.4,\n",
      "       20. , 21.7, 19.3, 22.4, 28.1, 23.7, 25. , 23.3, 28.7, 21.5, 23. ,\n",
      "       26.7, 21.7, 27.5, 30.1, 44.8, 50. , 37.6, 31.6, 46.7, 31.5, 24.3,\n",
      "       31.7, 41.7, 48.3, 29. , 24. , 25.1, 31.5, 23.7, 23.3, 22. , 20.1,\n",
      "       22.2, 23.7, 17.6, 18.5, 24.3, 20.5, 24.5, 26.2, 24.4, 24.8, 29.6,\n",
      "       42.8, 21.9, 20.9, 44. , 50. , 36. , 30.1, 33.8, 43.1, 48.8, 31. ,\n",
      "       36.5, 22.8, 30.7, 50. , 43.5, 20.7, 21.1, 25.2, 24.4, 35.2, 32.4,\n",
      "       32. , 33.2, 33.1, 29.1, 35.1, 45.4, 35.4, 46. , 50. , 32.2, 22. ,\n",
      "       20.1, 23.2, 22.3, 24.8, 28.5, 37.3, 27.9, 23.9, 21.7, 28.6, 27.1,\n",
      "       20.3, 22.5, 29. , 24.8, 22. , 26.4, 33.1, 36.1, 28.4, 33.4, 28.2,\n",
      "       22.8, 20.3, 16.1, 22.1, 19.4, 21.6, 23.8, 16.2, 17.8, 19.8, 23.1,\n",
      "       21. , 23.8, 23.1, 20.4, 18.5, 25. , 24.6, 23. , 22.2, 19.3, 22.6,\n",
      "       19.8, 17.1, 19.4, 22.2, 20.7, 21.1, 19.5, 18.5, 20.6, 19. , 18.7,\n",
      "       32.7, 16.5, 23.9, 31.2, 17.5, 17.2, 23.1, 24.5, 26.6, 22.9, 24.1,\n",
      "       18.6, 30.1, 18.2, 20.6, 17.8, 21.7, 22.7, 22.6, 25. , 19.9, 20.8,\n",
      "       16.8, 21.9, 27.5, 21.9, 23.1, 50. , 50. , 50. , 50. , 50. , 13.8,\n",
      "       13.8, 15. , 13.9, 13.3, 13.1, 10.2, 10.4, 10.9, 11.3, 12.3,  8.8,\n",
      "        7.2, 10.5,  7.4, 10.2, 11.5, 15.1, 23.2,  9.7, 13.8, 12.7, 13.1,\n",
      "       12.5,  8.5,  5. ,  6.3,  5.6,  7.2, 12.1,  8.3,  8.5,  5. , 11.9,\n",
      "       27.9, 17.2, 27.5, 15. , 17.2, 17.9, 16.3,  7. ,  7.2,  7.5, 10.4,\n",
      "        8.8,  8.4, 16.7, 14.2, 20.8, 13.4, 11.7,  8.3, 10.2, 10.9, 11. ,\n",
      "        9.5, 14.5, 14.1, 16.1, 14.3, 11.7, 13.4,  9.6,  8.7,  8.4, 12.8,\n",
      "       10.5, 17.1, 18.4, 15.4, 10.8, 11.8, 14.9, 12.6, 14.1, 13. , 13.4,\n",
      "       15.2, 16.1, 17.8, 14.9, 14.1, 12.7, 13.5, 14.9, 20. , 16.4, 17.7,\n",
      "       19.5, 20.2, 21.4, 19.9, 19. , 19.1, 19.1, 20.1, 19.9, 19.6, 23.2,\n",
      "       29.8, 13.8, 13.3, 16.7, 12. , 14.6, 21.4, 23. , 23.7, 25. , 21.8,\n",
      "       20.6, 21.2, 19.1, 20.6, 15.2,  7. ,  8.1, 13.6, 20.1, 21.8, 24.5,\n",
      "       23.1, 19.7, 18.3, 21.2, 17.5, 16.8, 22.4, 20.6, 23.9, 22. , 11.9]), 'feature_names': array(['CRIM', 'ZN', 'INDUS', 'CHAS', 'NOX', 'RM', 'AGE', 'DIS', 'RAD',\n",
      "       'TAX', 'PTRATIO', 'B', 'LSTAT'], dtype='<U7'), 'DESCR': \".. _boston_dataset:\\n\\nBoston house prices dataset\\n---------------------------\\n\\n**Data Set Characteristics:**  \\n\\n    :Number of Instances: 506 \\n\\n    :Number of Attributes: 13 numeric/categorical predictive. Median Value (attribute 14) is usually the target.\\n\\n    :Attribute Information (in order):\\n        - CRIM     per capita crime rate by town\\n        - ZN       proportion of residential land zoned for lots over 25,000 sq.ft.\\n        - INDUS    proportion of non-retail business acres per town\\n        - CHAS     Charles River dummy variable (= 1 if tract bounds river; 0 otherwise)\\n        - NOX      nitric oxides concentration (parts per 10 million)\\n        - RM       average number of rooms per dwelling\\n        - AGE      proportion of owner-occupied units built prior to 1940\\n        - DIS      weighted distances to five Boston employment centres\\n        - RAD      index of accessibility to radial highways\\n        - TAX      full-value property-tax rate per $10,000\\n        - PTRATIO  pupil-teacher ratio by town\\n        - B        1000(Bk - 0.63)^2 where Bk is the proportion of blacks by town\\n        - LSTAT    % lower status of the population\\n        - MEDV     Median value of owner-occupied homes in $1000's\\n\\n    :Missing Attribute Values: None\\n\\n    :Creator: Harrison, D. and Rubinfeld, D.L.\\n\\nThis is a copy of UCI ML housing dataset.\\nhttps://archive.ics.uci.edu/ml/machine-learning-databases/housing/\\n\\n\\nThis dataset was taken from the StatLib library which is maintained at Carnegie Mellon University.\\n\\nThe Boston house-price data of Harrison, D. and Rubinfeld, D.L. 'Hedonic\\nprices and the demand for clean air', J. Environ. Economics & Management,\\nvol.5, 81-102, 1978.   Used in Belsley, Kuh & Welsch, 'Regression diagnostics\\n...', Wiley, 1980.   N.B. Various transformations are used in the table on\\npages 244-261 of the latter.\\n\\nThe Boston house-price data has been used in many machine learning papers that address regression\\nproblems.   \\n     \\n.. topic:: References\\n\\n   - Belsley, Kuh & Welsch, 'Regression diagnostics: Identifying Influential Data and Sources of Collinearity', Wiley, 1980. 244-261.\\n   - Quinlan,R. (1993). Combining Instance-Based and Model-Based Learning. In Proceedings on the Tenth International Conference of Machine Learning, 236-243, University of Massachusetts, Amherst. Morgan Kaufmann.\\n\", 'filename': '/opt/conda/lib/python3.7/site-packages/sklearn/datasets/data/boston_house_prices.csv'}\n"
     ]
    }
   ],
   "source": [
    "print(dataset)"
   ]
  },
  {
   "cell_type": "markdown",
   "id": "0d4d6f03",
   "metadata": {
    "papermill": {
     "duration": 0.019926,
     "end_time": "2021-12-16T06:44:07.112845",
     "exception": false,
     "start_time": "2021-12-16T06:44:07.092919",
     "status": "completed"
    },
    "tags": []
   },
   "source": [
    "# Data Preprocessing\n",
    "Mengubah data tersebut ke dalam mode pandas dataframe"
   ]
  },
  {
   "cell_type": "code",
   "execution_count": 5,
   "id": "ac68c38c",
   "metadata": {
    "execution": {
     "iopub.execute_input": "2021-12-16T06:44:07.157175Z",
     "iopub.status.busy": "2021-12-16T06:44:07.156591Z",
     "iopub.status.idle": "2021-12-16T06:44:07.162058Z",
     "shell.execute_reply": "2021-12-16T06:44:07.162581Z",
     "shell.execute_reply.started": "2021-12-15T00:51:05.586785Z"
    },
    "papermill": {
     "duration": 0.02937,
     "end_time": "2021-12-16T06:44:07.162743",
     "exception": false,
     "start_time": "2021-12-16T06:44:07.133373",
     "status": "completed"
    },
    "tags": []
   },
   "outputs": [],
   "source": [
    "# Mengubah data kedalam mode pandas dataframe\n",
    "dataframe = pd.DataFrame(dataset.data, columns = dataset.feature_names)"
   ]
  },
  {
   "cell_type": "code",
   "execution_count": 6,
   "id": "c42ee307",
   "metadata": {
    "execution": {
     "iopub.execute_input": "2021-12-16T06:44:07.206415Z",
     "iopub.status.busy": "2021-12-16T06:44:07.205844Z",
     "iopub.status.idle": "2021-12-16T06:44:07.235090Z",
     "shell.execute_reply": "2021-12-16T06:44:07.235590Z",
     "shell.execute_reply.started": "2021-12-15T00:51:05.605231Z"
    },
    "papermill": {
     "duration": 0.052615,
     "end_time": "2021-12-16T06:44:07.235760",
     "exception": false,
     "start_time": "2021-12-16T06:44:07.183145",
     "status": "completed"
    },
    "tags": []
   },
   "outputs": [
    {
     "data": {
      "text/html": [
       "<div>\n",
       "<style scoped>\n",
       "    .dataframe tbody tr th:only-of-type {\n",
       "        vertical-align: middle;\n",
       "    }\n",
       "\n",
       "    .dataframe tbody tr th {\n",
       "        vertical-align: top;\n",
       "    }\n",
       "\n",
       "    .dataframe thead th {\n",
       "        text-align: right;\n",
       "    }\n",
       "</style>\n",
       "<table border=\"1\" class=\"dataframe\">\n",
       "  <thead>\n",
       "    <tr style=\"text-align: right;\">\n",
       "      <th></th>\n",
       "      <th>CRIM</th>\n",
       "      <th>ZN</th>\n",
       "      <th>INDUS</th>\n",
       "      <th>CHAS</th>\n",
       "      <th>NOX</th>\n",
       "      <th>RM</th>\n",
       "      <th>AGE</th>\n",
       "      <th>DIS</th>\n",
       "      <th>RAD</th>\n",
       "      <th>TAX</th>\n",
       "      <th>PTRATIO</th>\n",
       "      <th>B</th>\n",
       "      <th>LSTAT</th>\n",
       "    </tr>\n",
       "  </thead>\n",
       "  <tbody>\n",
       "    <tr>\n",
       "      <th>0</th>\n",
       "      <td>0.00632</td>\n",
       "      <td>18.0</td>\n",
       "      <td>2.31</td>\n",
       "      <td>0.0</td>\n",
       "      <td>0.538</td>\n",
       "      <td>6.575</td>\n",
       "      <td>65.2</td>\n",
       "      <td>4.0900</td>\n",
       "      <td>1.0</td>\n",
       "      <td>296.0</td>\n",
       "      <td>15.3</td>\n",
       "      <td>396.90</td>\n",
       "      <td>4.98</td>\n",
       "    </tr>\n",
       "    <tr>\n",
       "      <th>1</th>\n",
       "      <td>0.02731</td>\n",
       "      <td>0.0</td>\n",
       "      <td>7.07</td>\n",
       "      <td>0.0</td>\n",
       "      <td>0.469</td>\n",
       "      <td>6.421</td>\n",
       "      <td>78.9</td>\n",
       "      <td>4.9671</td>\n",
       "      <td>2.0</td>\n",
       "      <td>242.0</td>\n",
       "      <td>17.8</td>\n",
       "      <td>396.90</td>\n",
       "      <td>9.14</td>\n",
       "    </tr>\n",
       "    <tr>\n",
       "      <th>2</th>\n",
       "      <td>0.02729</td>\n",
       "      <td>0.0</td>\n",
       "      <td>7.07</td>\n",
       "      <td>0.0</td>\n",
       "      <td>0.469</td>\n",
       "      <td>7.185</td>\n",
       "      <td>61.1</td>\n",
       "      <td>4.9671</td>\n",
       "      <td>2.0</td>\n",
       "      <td>242.0</td>\n",
       "      <td>17.8</td>\n",
       "      <td>392.83</td>\n",
       "      <td>4.03</td>\n",
       "    </tr>\n",
       "    <tr>\n",
       "      <th>3</th>\n",
       "      <td>0.03237</td>\n",
       "      <td>0.0</td>\n",
       "      <td>2.18</td>\n",
       "      <td>0.0</td>\n",
       "      <td>0.458</td>\n",
       "      <td>6.998</td>\n",
       "      <td>45.8</td>\n",
       "      <td>6.0622</td>\n",
       "      <td>3.0</td>\n",
       "      <td>222.0</td>\n",
       "      <td>18.7</td>\n",
       "      <td>394.63</td>\n",
       "      <td>2.94</td>\n",
       "    </tr>\n",
       "    <tr>\n",
       "      <th>4</th>\n",
       "      <td>0.06905</td>\n",
       "      <td>0.0</td>\n",
       "      <td>2.18</td>\n",
       "      <td>0.0</td>\n",
       "      <td>0.458</td>\n",
       "      <td>7.147</td>\n",
       "      <td>54.2</td>\n",
       "      <td>6.0622</td>\n",
       "      <td>3.0</td>\n",
       "      <td>222.0</td>\n",
       "      <td>18.7</td>\n",
       "      <td>396.90</td>\n",
       "      <td>5.33</td>\n",
       "    </tr>\n",
       "  </tbody>\n",
       "</table>\n",
       "</div>"
      ],
      "text/plain": [
       "      CRIM    ZN  INDUS  CHAS    NOX     RM   AGE     DIS  RAD    TAX  \\\n",
       "0  0.00632  18.0   2.31   0.0  0.538  6.575  65.2  4.0900  1.0  296.0   \n",
       "1  0.02731   0.0   7.07   0.0  0.469  6.421  78.9  4.9671  2.0  242.0   \n",
       "2  0.02729   0.0   7.07   0.0  0.469  7.185  61.1  4.9671  2.0  242.0   \n",
       "3  0.03237   0.0   2.18   0.0  0.458  6.998  45.8  6.0622  3.0  222.0   \n",
       "4  0.06905   0.0   2.18   0.0  0.458  7.147  54.2  6.0622  3.0  222.0   \n",
       "\n",
       "   PTRATIO       B  LSTAT  \n",
       "0     15.3  396.90   4.98  \n",
       "1     17.8  396.90   9.14  \n",
       "2     17.8  392.83   4.03  \n",
       "3     18.7  394.63   2.94  \n",
       "4     18.7  396.90   5.33  "
      ]
     },
     "execution_count": 6,
     "metadata": {},
     "output_type": "execute_result"
    }
   ],
   "source": [
    "dataframe.head()"
   ]
  },
  {
   "cell_type": "code",
   "execution_count": 7,
   "id": "009583ea",
   "metadata": {
    "execution": {
     "iopub.execute_input": "2021-12-16T06:44:07.282124Z",
     "iopub.status.busy": "2021-12-16T06:44:07.281467Z",
     "iopub.status.idle": "2021-12-16T06:44:07.287919Z",
     "shell.execute_reply": "2021-12-16T06:44:07.288450Z",
     "shell.execute_reply.started": "2021-12-15T00:51:05.647533Z"
    },
    "papermill": {
     "duration": 0.030954,
     "end_time": "2021-12-16T06:44:07.288619",
     "exception": false,
     "start_time": "2021-12-16T06:44:07.257665",
     "status": "completed"
    },
    "tags": []
   },
   "outputs": [],
   "source": [
    "# menambah kolom target (price) ke dalam dataframe\n",
    "\n",
    "dataframe['PRICE'] = dataset.target"
   ]
  },
  {
   "cell_type": "code",
   "execution_count": 8,
   "id": "6d510e7a",
   "metadata": {
    "execution": {
     "iopub.execute_input": "2021-12-16T06:44:07.333609Z",
     "iopub.status.busy": "2021-12-16T06:44:07.333010Z",
     "iopub.status.idle": "2021-12-16T06:44:07.351806Z",
     "shell.execute_reply": "2021-12-16T06:44:07.351337Z",
     "shell.execute_reply.started": "2021-12-15T00:51:05.658422Z"
    },
    "papermill": {
     "duration": 0.042666,
     "end_time": "2021-12-16T06:44:07.351944",
     "exception": false,
     "start_time": "2021-12-16T06:44:07.309278",
     "status": "completed"
    },
    "tags": []
   },
   "outputs": [
    {
     "data": {
      "text/html": [
       "<div>\n",
       "<style scoped>\n",
       "    .dataframe tbody tr th:only-of-type {\n",
       "        vertical-align: middle;\n",
       "    }\n",
       "\n",
       "    .dataframe tbody tr th {\n",
       "        vertical-align: top;\n",
       "    }\n",
       "\n",
       "    .dataframe thead th {\n",
       "        text-align: right;\n",
       "    }\n",
       "</style>\n",
       "<table border=\"1\" class=\"dataframe\">\n",
       "  <thead>\n",
       "    <tr style=\"text-align: right;\">\n",
       "      <th></th>\n",
       "      <th>CRIM</th>\n",
       "      <th>ZN</th>\n",
       "      <th>INDUS</th>\n",
       "      <th>CHAS</th>\n",
       "      <th>NOX</th>\n",
       "      <th>RM</th>\n",
       "      <th>AGE</th>\n",
       "      <th>DIS</th>\n",
       "      <th>RAD</th>\n",
       "      <th>TAX</th>\n",
       "      <th>PTRATIO</th>\n",
       "      <th>B</th>\n",
       "      <th>LSTAT</th>\n",
       "      <th>PRICE</th>\n",
       "    </tr>\n",
       "  </thead>\n",
       "  <tbody>\n",
       "    <tr>\n",
       "      <th>0</th>\n",
       "      <td>0.00632</td>\n",
       "      <td>18.0</td>\n",
       "      <td>2.31</td>\n",
       "      <td>0.0</td>\n",
       "      <td>0.538</td>\n",
       "      <td>6.575</td>\n",
       "      <td>65.2</td>\n",
       "      <td>4.0900</td>\n",
       "      <td>1.0</td>\n",
       "      <td>296.0</td>\n",
       "      <td>15.3</td>\n",
       "      <td>396.90</td>\n",
       "      <td>4.98</td>\n",
       "      <td>24.0</td>\n",
       "    </tr>\n",
       "    <tr>\n",
       "      <th>1</th>\n",
       "      <td>0.02731</td>\n",
       "      <td>0.0</td>\n",
       "      <td>7.07</td>\n",
       "      <td>0.0</td>\n",
       "      <td>0.469</td>\n",
       "      <td>6.421</td>\n",
       "      <td>78.9</td>\n",
       "      <td>4.9671</td>\n",
       "      <td>2.0</td>\n",
       "      <td>242.0</td>\n",
       "      <td>17.8</td>\n",
       "      <td>396.90</td>\n",
       "      <td>9.14</td>\n",
       "      <td>21.6</td>\n",
       "    </tr>\n",
       "    <tr>\n",
       "      <th>2</th>\n",
       "      <td>0.02729</td>\n",
       "      <td>0.0</td>\n",
       "      <td>7.07</td>\n",
       "      <td>0.0</td>\n",
       "      <td>0.469</td>\n",
       "      <td>7.185</td>\n",
       "      <td>61.1</td>\n",
       "      <td>4.9671</td>\n",
       "      <td>2.0</td>\n",
       "      <td>242.0</td>\n",
       "      <td>17.8</td>\n",
       "      <td>392.83</td>\n",
       "      <td>4.03</td>\n",
       "      <td>34.7</td>\n",
       "    </tr>\n",
       "    <tr>\n",
       "      <th>3</th>\n",
       "      <td>0.03237</td>\n",
       "      <td>0.0</td>\n",
       "      <td>2.18</td>\n",
       "      <td>0.0</td>\n",
       "      <td>0.458</td>\n",
       "      <td>6.998</td>\n",
       "      <td>45.8</td>\n",
       "      <td>6.0622</td>\n",
       "      <td>3.0</td>\n",
       "      <td>222.0</td>\n",
       "      <td>18.7</td>\n",
       "      <td>394.63</td>\n",
       "      <td>2.94</td>\n",
       "      <td>33.4</td>\n",
       "    </tr>\n",
       "    <tr>\n",
       "      <th>4</th>\n",
       "      <td>0.06905</td>\n",
       "      <td>0.0</td>\n",
       "      <td>2.18</td>\n",
       "      <td>0.0</td>\n",
       "      <td>0.458</td>\n",
       "      <td>7.147</td>\n",
       "      <td>54.2</td>\n",
       "      <td>6.0622</td>\n",
       "      <td>3.0</td>\n",
       "      <td>222.0</td>\n",
       "      <td>18.7</td>\n",
       "      <td>396.90</td>\n",
       "      <td>5.33</td>\n",
       "      <td>36.2</td>\n",
       "    </tr>\n",
       "  </tbody>\n",
       "</table>\n",
       "</div>"
      ],
      "text/plain": [
       "      CRIM    ZN  INDUS  CHAS    NOX     RM   AGE     DIS  RAD    TAX  \\\n",
       "0  0.00632  18.0   2.31   0.0  0.538  6.575  65.2  4.0900  1.0  296.0   \n",
       "1  0.02731   0.0   7.07   0.0  0.469  6.421  78.9  4.9671  2.0  242.0   \n",
       "2  0.02729   0.0   7.07   0.0  0.469  7.185  61.1  4.9671  2.0  242.0   \n",
       "3  0.03237   0.0   2.18   0.0  0.458  6.998  45.8  6.0622  3.0  222.0   \n",
       "4  0.06905   0.0   2.18   0.0  0.458  7.147  54.2  6.0622  3.0  222.0   \n",
       "\n",
       "   PTRATIO       B  LSTAT  PRICE  \n",
       "0     15.3  396.90   4.98   24.0  \n",
       "1     17.8  396.90   9.14   21.6  \n",
       "2     17.8  392.83   4.03   34.7  \n",
       "3     18.7  394.63   2.94   33.4  \n",
       "4     18.7  396.90   5.33   36.2  "
      ]
     },
     "execution_count": 8,
     "metadata": {},
     "output_type": "execute_result"
    }
   ],
   "source": [
    "dataframe.head()"
   ]
  },
  {
   "cell_type": "code",
   "execution_count": 9,
   "id": "54617687",
   "metadata": {
    "execution": {
     "iopub.execute_input": "2021-12-16T06:44:07.400585Z",
     "iopub.status.busy": "2021-12-16T06:44:07.399790Z",
     "iopub.status.idle": "2021-12-16T06:44:07.403604Z",
     "shell.execute_reply": "2021-12-16T06:44:07.403098Z",
     "shell.execute_reply.started": "2021-12-15T00:51:05.684485Z"
    },
    "papermill": {
     "duration": 0.030554,
     "end_time": "2021-12-16T06:44:07.403747",
     "exception": false,
     "start_time": "2021-12-16T06:44:07.373193",
     "status": "completed"
    },
    "tags": []
   },
   "outputs": [
    {
     "data": {
      "text/plain": [
       "(506, 14)"
      ]
     },
     "execution_count": 9,
     "metadata": {},
     "output_type": "execute_result"
    }
   ],
   "source": [
    "# memeriksa jumlah kolom dan baris\n",
    "dataframe.shape"
   ]
  },
  {
   "cell_type": "code",
   "execution_count": 10,
   "id": "67fee711",
   "metadata": {
    "execution": {
     "iopub.execute_input": "2021-12-16T06:44:07.456058Z",
     "iopub.status.busy": "2021-12-16T06:44:07.455453Z",
     "iopub.status.idle": "2021-12-16T06:44:07.457677Z",
     "shell.execute_reply": "2021-12-16T06:44:07.458228Z",
     "shell.execute_reply.started": "2021-12-15T00:51:05.692018Z"
    },
    "papermill": {
     "duration": 0.032313,
     "end_time": "2021-12-16T06:44:07.458395",
     "exception": false,
     "start_time": "2021-12-16T06:44:07.426082",
     "status": "completed"
    },
    "tags": []
   },
   "outputs": [
    {
     "data": {
      "text/plain": [
       "CRIM       0\n",
       "ZN         0\n",
       "INDUS      0\n",
       "CHAS       0\n",
       "NOX        0\n",
       "RM         0\n",
       "AGE        0\n",
       "DIS        0\n",
       "RAD        0\n",
       "TAX        0\n",
       "PTRATIO    0\n",
       "B          0\n",
       "LSTAT      0\n",
       "PRICE      0\n",
       "dtype: int64"
      ]
     },
     "execution_count": 10,
     "metadata": {},
     "output_type": "execute_result"
    }
   ],
   "source": [
    "# cek missing values\n",
    "dataframe.isnull().sum()"
   ]
  },
  {
   "cell_type": "code",
   "execution_count": 11,
   "id": "60a71d27",
   "metadata": {
    "execution": {
     "iopub.execute_input": "2021-12-16T06:44:07.504755Z",
     "iopub.status.busy": "2021-12-16T06:44:07.504052Z",
     "iopub.status.idle": "2021-12-16T06:44:07.555993Z",
     "shell.execute_reply": "2021-12-16T06:44:07.555520Z",
     "shell.execute_reply.started": "2021-12-15T00:51:05.707882Z"
    },
    "papermill": {
     "duration": 0.076187,
     "end_time": "2021-12-16T06:44:07.556134",
     "exception": false,
     "start_time": "2021-12-16T06:44:07.479947",
     "status": "completed"
    },
    "tags": []
   },
   "outputs": [
    {
     "data": {
      "text/html": [
       "<div>\n",
       "<style scoped>\n",
       "    .dataframe tbody tr th:only-of-type {\n",
       "        vertical-align: middle;\n",
       "    }\n",
       "\n",
       "    .dataframe tbody tr th {\n",
       "        vertical-align: top;\n",
       "    }\n",
       "\n",
       "    .dataframe thead th {\n",
       "        text-align: right;\n",
       "    }\n",
       "</style>\n",
       "<table border=\"1\" class=\"dataframe\">\n",
       "  <thead>\n",
       "    <tr style=\"text-align: right;\">\n",
       "      <th></th>\n",
       "      <th>CRIM</th>\n",
       "      <th>ZN</th>\n",
       "      <th>INDUS</th>\n",
       "      <th>CHAS</th>\n",
       "      <th>NOX</th>\n",
       "      <th>RM</th>\n",
       "      <th>AGE</th>\n",
       "      <th>DIS</th>\n",
       "      <th>RAD</th>\n",
       "      <th>TAX</th>\n",
       "      <th>PTRATIO</th>\n",
       "      <th>B</th>\n",
       "      <th>LSTAT</th>\n",
       "      <th>PRICE</th>\n",
       "    </tr>\n",
       "  </thead>\n",
       "  <tbody>\n",
       "    <tr>\n",
       "      <th>count</th>\n",
       "      <td>506.000000</td>\n",
       "      <td>506.000000</td>\n",
       "      <td>506.000000</td>\n",
       "      <td>506.000000</td>\n",
       "      <td>506.000000</td>\n",
       "      <td>506.000000</td>\n",
       "      <td>506.000000</td>\n",
       "      <td>506.000000</td>\n",
       "      <td>506.000000</td>\n",
       "      <td>506.000000</td>\n",
       "      <td>506.000000</td>\n",
       "      <td>506.000000</td>\n",
       "      <td>506.000000</td>\n",
       "      <td>506.000000</td>\n",
       "    </tr>\n",
       "    <tr>\n",
       "      <th>mean</th>\n",
       "      <td>3.613524</td>\n",
       "      <td>11.363636</td>\n",
       "      <td>11.136779</td>\n",
       "      <td>0.069170</td>\n",
       "      <td>0.554695</td>\n",
       "      <td>6.284634</td>\n",
       "      <td>68.574901</td>\n",
       "      <td>3.795043</td>\n",
       "      <td>9.549407</td>\n",
       "      <td>408.237154</td>\n",
       "      <td>18.455534</td>\n",
       "      <td>356.674032</td>\n",
       "      <td>12.653063</td>\n",
       "      <td>22.532806</td>\n",
       "    </tr>\n",
       "    <tr>\n",
       "      <th>std</th>\n",
       "      <td>8.601545</td>\n",
       "      <td>23.322453</td>\n",
       "      <td>6.860353</td>\n",
       "      <td>0.253994</td>\n",
       "      <td>0.115878</td>\n",
       "      <td>0.702617</td>\n",
       "      <td>28.148861</td>\n",
       "      <td>2.105710</td>\n",
       "      <td>8.707259</td>\n",
       "      <td>168.537116</td>\n",
       "      <td>2.164946</td>\n",
       "      <td>91.294864</td>\n",
       "      <td>7.141062</td>\n",
       "      <td>9.197104</td>\n",
       "    </tr>\n",
       "    <tr>\n",
       "      <th>min</th>\n",
       "      <td>0.006320</td>\n",
       "      <td>0.000000</td>\n",
       "      <td>0.460000</td>\n",
       "      <td>0.000000</td>\n",
       "      <td>0.385000</td>\n",
       "      <td>3.561000</td>\n",
       "      <td>2.900000</td>\n",
       "      <td>1.129600</td>\n",
       "      <td>1.000000</td>\n",
       "      <td>187.000000</td>\n",
       "      <td>12.600000</td>\n",
       "      <td>0.320000</td>\n",
       "      <td>1.730000</td>\n",
       "      <td>5.000000</td>\n",
       "    </tr>\n",
       "    <tr>\n",
       "      <th>25%</th>\n",
       "      <td>0.082045</td>\n",
       "      <td>0.000000</td>\n",
       "      <td>5.190000</td>\n",
       "      <td>0.000000</td>\n",
       "      <td>0.449000</td>\n",
       "      <td>5.885500</td>\n",
       "      <td>45.025000</td>\n",
       "      <td>2.100175</td>\n",
       "      <td>4.000000</td>\n",
       "      <td>279.000000</td>\n",
       "      <td>17.400000</td>\n",
       "      <td>375.377500</td>\n",
       "      <td>6.950000</td>\n",
       "      <td>17.025000</td>\n",
       "    </tr>\n",
       "    <tr>\n",
       "      <th>50%</th>\n",
       "      <td>0.256510</td>\n",
       "      <td>0.000000</td>\n",
       "      <td>9.690000</td>\n",
       "      <td>0.000000</td>\n",
       "      <td>0.538000</td>\n",
       "      <td>6.208500</td>\n",
       "      <td>77.500000</td>\n",
       "      <td>3.207450</td>\n",
       "      <td>5.000000</td>\n",
       "      <td>330.000000</td>\n",
       "      <td>19.050000</td>\n",
       "      <td>391.440000</td>\n",
       "      <td>11.360000</td>\n",
       "      <td>21.200000</td>\n",
       "    </tr>\n",
       "    <tr>\n",
       "      <th>75%</th>\n",
       "      <td>3.677083</td>\n",
       "      <td>12.500000</td>\n",
       "      <td>18.100000</td>\n",
       "      <td>0.000000</td>\n",
       "      <td>0.624000</td>\n",
       "      <td>6.623500</td>\n",
       "      <td>94.075000</td>\n",
       "      <td>5.188425</td>\n",
       "      <td>24.000000</td>\n",
       "      <td>666.000000</td>\n",
       "      <td>20.200000</td>\n",
       "      <td>396.225000</td>\n",
       "      <td>16.955000</td>\n",
       "      <td>25.000000</td>\n",
       "    </tr>\n",
       "    <tr>\n",
       "      <th>max</th>\n",
       "      <td>88.976200</td>\n",
       "      <td>100.000000</td>\n",
       "      <td>27.740000</td>\n",
       "      <td>1.000000</td>\n",
       "      <td>0.871000</td>\n",
       "      <td>8.780000</td>\n",
       "      <td>100.000000</td>\n",
       "      <td>12.126500</td>\n",
       "      <td>24.000000</td>\n",
       "      <td>711.000000</td>\n",
       "      <td>22.000000</td>\n",
       "      <td>396.900000</td>\n",
       "      <td>37.970000</td>\n",
       "      <td>50.000000</td>\n",
       "    </tr>\n",
       "  </tbody>\n",
       "</table>\n",
       "</div>"
      ],
      "text/plain": [
       "             CRIM          ZN       INDUS        CHAS         NOX          RM  \\\n",
       "count  506.000000  506.000000  506.000000  506.000000  506.000000  506.000000   \n",
       "mean     3.613524   11.363636   11.136779    0.069170    0.554695    6.284634   \n",
       "std      8.601545   23.322453    6.860353    0.253994    0.115878    0.702617   \n",
       "min      0.006320    0.000000    0.460000    0.000000    0.385000    3.561000   \n",
       "25%      0.082045    0.000000    5.190000    0.000000    0.449000    5.885500   \n",
       "50%      0.256510    0.000000    9.690000    0.000000    0.538000    6.208500   \n",
       "75%      3.677083   12.500000   18.100000    0.000000    0.624000    6.623500   \n",
       "max     88.976200  100.000000   27.740000    1.000000    0.871000    8.780000   \n",
       "\n",
       "              AGE         DIS         RAD         TAX     PTRATIO           B  \\\n",
       "count  506.000000  506.000000  506.000000  506.000000  506.000000  506.000000   \n",
       "mean    68.574901    3.795043    9.549407  408.237154   18.455534  356.674032   \n",
       "std     28.148861    2.105710    8.707259  168.537116    2.164946   91.294864   \n",
       "min      2.900000    1.129600    1.000000  187.000000   12.600000    0.320000   \n",
       "25%     45.025000    2.100175    4.000000  279.000000   17.400000  375.377500   \n",
       "50%     77.500000    3.207450    5.000000  330.000000   19.050000  391.440000   \n",
       "75%     94.075000    5.188425   24.000000  666.000000   20.200000  396.225000   \n",
       "max    100.000000   12.126500   24.000000  711.000000   22.000000  396.900000   \n",
       "\n",
       "            LSTAT       PRICE  \n",
       "count  506.000000  506.000000  \n",
       "mean    12.653063   22.532806  \n",
       "std      7.141062    9.197104  \n",
       "min      1.730000    5.000000  \n",
       "25%      6.950000   17.025000  \n",
       "50%     11.360000   21.200000  \n",
       "75%     16.955000   25.000000  \n",
       "max     37.970000   50.000000  "
      ]
     },
     "execution_count": 11,
     "metadata": {},
     "output_type": "execute_result"
    }
   ],
   "source": [
    "dataframe.describe()"
   ]
  },
  {
   "cell_type": "markdown",
   "id": "61e64a74",
   "metadata": {
    "papermill": {
     "duration": 0.021824,
     "end_time": "2021-12-16T06:44:07.601615",
     "exception": false,
     "start_time": "2021-12-16T06:44:07.579791",
     "status": "completed"
    },
    "tags": []
   },
   "source": [
    "# Data Analisis\n",
    "\n",
    "Memahami korelasi antar feature dalam dataframe\n",
    "1. Korelasi Positif\n",
    "2. Korelasi Negatif"
   ]
  },
  {
   "cell_type": "code",
   "execution_count": 12,
   "id": "63cd42d8",
   "metadata": {
    "execution": {
     "iopub.execute_input": "2021-12-16T06:44:07.649249Z",
     "iopub.status.busy": "2021-12-16T06:44:07.648617Z",
     "iopub.status.idle": "2021-12-16T06:44:07.654905Z",
     "shell.execute_reply": "2021-12-16T06:44:07.655502Z",
     "shell.execute_reply.started": "2021-12-15T00:51:05.768381Z"
    },
    "papermill": {
     "duration": 0.031613,
     "end_time": "2021-12-16T06:44:07.655675",
     "exception": false,
     "start_time": "2021-12-16T06:44:07.624062",
     "status": "completed"
    },
    "tags": []
   },
   "outputs": [],
   "source": [
    "korelasi = dataframe.corr()"
   ]
  },
  {
   "cell_type": "code",
   "execution_count": 13,
   "id": "7113adc2",
   "metadata": {
    "execution": {
     "iopub.execute_input": "2021-12-16T06:44:07.702972Z",
     "iopub.status.busy": "2021-12-16T06:44:07.702367Z",
     "iopub.status.idle": "2021-12-16T06:44:08.920510Z",
     "shell.execute_reply": "2021-12-16T06:44:08.920958Z",
     "shell.execute_reply.started": "2021-12-15T00:51:05.775828Z"
    },
    "papermill": {
     "duration": 1.24341,
     "end_time": "2021-12-16T06:44:08.921121",
     "exception": false,
     "start_time": "2021-12-16T06:44:07.677711",
     "status": "completed"
    },
    "tags": []
   },
   "outputs": [
    {
     "data": {
      "text/plain": [
       "<AxesSubplot:>"
      ]
     },
     "execution_count": 13,
     "metadata": {},
     "output_type": "execute_result"
    },
    {
     "data": {
      "image/png": "[encoded data removed]",
      "text/plain": [
       "<Figure size 1080x1080 with 2 Axes>"
      ]
     },
     "metadata": {
      "needs_background": "light"
     },
     "output_type": "display_data"
    }
   ],
   "source": [
    "# heatmap untuk memahami korelasi antar feature\n",
    "plt.figure(figsize=(15,15))\n",
    "sns.heatmap(korelasi, cbar=True, square=True, annot=True, annot_kws={'size':10}, fmt='.1f', cmap='Greens')"
   ]
  },
  {
   "cell_type": "code",
   "execution_count": 14,
   "id": "829abc07",
   "metadata": {
    "execution": {
     "iopub.execute_input": "2021-12-16T06:44:08.974194Z",
     "iopub.status.busy": "2021-12-16T06:44:08.973610Z",
     "iopub.status.idle": "2021-12-16T06:44:08.990339Z",
     "shell.execute_reply": "2021-12-16T06:44:08.990847Z",
     "shell.execute_reply.started": "2021-12-15T00:51:07.034369Z"
    },
    "papermill": {
     "duration": 0.044982,
     "end_time": "2021-12-16T06:44:08.991018",
     "exception": false,
     "start_time": "2021-12-16T06:44:08.946036",
     "status": "completed"
    },
    "tags": []
   },
   "outputs": [
    {
     "name": "stdout",
     "output_type": "stream",
     "text": [
      "        CRIM    ZN  INDUS  CHAS    NOX     RM   AGE     DIS  RAD    TAX  \\\n",
      "0    0.00632  18.0   2.31   0.0  0.538  6.575  65.2  4.0900  1.0  296.0   \n",
      "1    0.02731   0.0   7.07   0.0  0.469  6.421  78.9  4.9671  2.0  242.0   \n",
      "2    0.02729   0.0   7.07   0.0  0.469  7.185  61.1  4.9671  2.0  242.0   \n",
      "3    0.03237   0.0   2.18   0.0  0.458  6.998  45.8  6.0622  3.0  222.0   \n",
      "4    0.06905   0.0   2.18   0.0  0.458  7.147  54.2  6.0622  3.0  222.0   \n",
      "..       ...   ...    ...   ...    ...    ...   ...     ...  ...    ...   \n",
      "501  0.06263   0.0  11.93   0.0  0.573  6.593  69.1  2.4786  1.0  273.0   \n",
      "502  0.04527   0.0  11.93   0.0  0.573  6.120  76.7  2.2875  1.0  273.0   \n",
      "503  0.06076   0.0  11.93   0.0  0.573  6.976  91.0  2.1675  1.0  273.0   \n",
      "504  0.10959   0.0  11.93   0.0  0.573  6.794  89.3  2.3889  1.0  273.0   \n",
      "505  0.04741   0.0  11.93   0.0  0.573  6.030  80.8  2.5050  1.0  273.0   \n",
      "\n",
      "     PTRATIO       B  LSTAT  \n",
      "0       15.3  396.90   4.98  \n",
      "1       17.8  396.90   9.14  \n",
      "2       17.8  392.83   4.03  \n",
      "3       18.7  394.63   2.94  \n",
      "4       18.7  396.90   5.33  \n",
      "..       ...     ...    ...  \n",
      "501     21.0  391.99   9.67  \n",
      "502     21.0  396.90   9.08  \n",
      "503     21.0  396.90   5.64  \n",
      "504     21.0  393.45   6.48  \n",
      "505     21.0  396.90   7.88  \n",
      "\n",
      "[506 rows x 13 columns]\n",
      "0      24.0\n",
      "1      21.6\n",
      "2      34.7\n",
      "3      33.4\n",
      "4      36.2\n",
      "       ... \n",
      "501    22.4\n",
      "502    20.6\n",
      "503    23.9\n",
      "504    22.0\n",
      "505    11.9\n",
      "Name: PRICE, Length: 506, dtype: float64\n"
     ]
    }
   ],
   "source": [
    "# Splitting, membagi data dan label (X untuk semua data, Y untuk price(label))\n",
    "\n",
    "X = dataframe.drop(['PRICE'], axis=1)\n",
    "Y = dataframe['PRICE']\n",
    "\n",
    "print(X)\n",
    "print(Y)"
   ]
  },
  {
   "cell_type": "code",
   "execution_count": 15,
   "id": "8b799148",
   "metadata": {
    "execution": {
     "iopub.execute_input": "2021-12-16T06:44:09.044900Z",
     "iopub.status.busy": "2021-12-16T06:44:09.044280Z",
     "iopub.status.idle": "2021-12-16T06:44:09.050457Z",
     "shell.execute_reply": "2021-12-16T06:44:09.050940Z",
     "shell.execute_reply.started": "2021-12-15T00:51:07.054511Z"
    },
    "papermill": {
     "duration": 0.034508,
     "end_time": "2021-12-16T06:44:09.051108",
     "exception": false,
     "start_time": "2021-12-16T06:44:09.016600",
     "status": "completed"
    },
    "tags": []
   },
   "outputs": [],
   "source": [
    "# Splitting data menjadi DataTraining dan DataTest\n",
    "X_train, X_test, Y_train, Y_test = train_test_split(X,Y, test_size=0.2, random_state=2)"
   ]
  },
  {
   "cell_type": "code",
   "execution_count": 16,
   "id": "3d78acf6",
   "metadata": {
    "execution": {
     "iopub.execute_input": "2021-12-16T06:44:09.104336Z",
     "iopub.status.busy": "2021-12-16T06:44:09.103726Z",
     "iopub.status.idle": "2021-12-16T06:44:09.108658Z",
     "shell.execute_reply": "2021-12-16T06:44:09.109117Z",
     "shell.execute_reply.started": "2021-12-15T00:51:07.071662Z"
    },
    "papermill": {
     "duration": 0.032865,
     "end_time": "2021-12-16T06:44:09.109301",
     "exception": false,
     "start_time": "2021-12-16T06:44:09.076436",
     "status": "completed"
    },
    "tags": []
   },
   "outputs": [
    {
     "name": "stdout",
     "output_type": "stream",
     "text": [
      "(506, 13) (404, 13) (102, 13)\n"
     ]
    }
   ],
   "source": [
    "print(X.shape, X_train.shape, X_test.shape)"
   ]
  },
  {
   "cell_type": "code",
   "execution_count": 17,
   "id": "9832242c",
   "metadata": {
    "execution": {
     "iopub.execute_input": "2021-12-16T06:44:09.166069Z",
     "iopub.status.busy": "2021-12-16T06:44:09.164505Z",
     "iopub.status.idle": "2021-12-16T06:44:09.169228Z",
     "shell.execute_reply": "2021-12-16T06:44:09.169665Z",
     "shell.execute_reply.started": "2021-12-15T00:51:07.087936Z"
    },
    "papermill": {
     "duration": 0.034433,
     "end_time": "2021-12-16T06:44:09.169835",
     "exception": false,
     "start_time": "2021-12-16T06:44:09.135402",
     "status": "completed"
    },
    "tags": []
   },
   "outputs": [
    {
     "name": "stdout",
     "output_type": "stream",
     "text": [
      "(506,) (404,) (102,)\n"
     ]
    }
   ],
   "source": [
    "print(Y.shape, Y_train.shape, Y_test.shape)"
   ]
  },
  {
   "cell_type": "markdown",
   "id": "24b073cf",
   "metadata": {
    "papermill": {
     "duration": 0.025723,
     "end_time": "2021-12-16T06:44:09.221743",
     "exception": false,
     "start_time": "2021-12-16T06:44:09.196020",
     "status": "completed"
    },
    "tags": []
   },
   "source": [
    "# Training Model"
   ]
  },
  {
   "cell_type": "code",
   "execution_count": 18,
   "id": "cc360c0a",
   "metadata": {
    "execution": {
     "iopub.execute_input": "2021-12-16T06:44:09.279157Z",
     "iopub.status.busy": "2021-12-16T06:44:09.278546Z",
     "iopub.status.idle": "2021-12-16T06:44:09.281068Z",
     "shell.execute_reply": "2021-12-16T06:44:09.280629Z",
     "shell.execute_reply.started": "2021-12-15T00:51:07.09986Z"
    },
    "papermill": {
     "duration": 0.033082,
     "end_time": "2021-12-16T06:44:09.281224",
     "exception": false,
     "start_time": "2021-12-16T06:44:09.248142",
     "status": "completed"
    },
    "tags": []
   },
   "outputs": [],
   "source": [
    "model = XGBRegressor()"
   ]
  },
  {
   "cell_type": "code",
   "execution_count": 19,
   "id": "6479be9d",
   "metadata": {
    "execution": {
     "iopub.execute_input": "2021-12-16T06:44:09.338413Z",
     "iopub.status.busy": "2021-12-16T06:44:09.337741Z",
     "iopub.status.idle": "2021-12-16T06:44:09.681595Z",
     "shell.execute_reply": "2021-12-16T06:44:09.680667Z",
     "shell.execute_reply.started": "2021-12-15T00:51:07.111261Z"
    },
    "papermill": {
     "duration": 0.374397,
     "end_time": "2021-12-16T06:44:09.681756",
     "exception": false,
     "start_time": "2021-12-16T06:44:09.307359",
     "status": "completed"
    },
    "tags": []
   },
   "outputs": [
    {
     "data": {
      "text/plain": [
       "XGBRegressor(base_score=0.5, booster='gbtree', colsample_bylevel=1,\n",
       "             colsample_bynode=1, colsample_bytree=1, enable_categorical=False,\n",
       "             gamma=0, gpu_id=-1, importance_type=None,\n",
       "             interaction_constraints='', learning_rate=0.300000012,\n",
       "             max_delta_step=0, max_depth=6, min_child_weight=1, missing=nan,\n",
       "             monotone_constraints='()', n_estimators=100, n_jobs=4,\n",
       "             num_parallel_tree=1, predictor='auto', random_state=0, reg_alpha=0,\n",
       "             reg_lambda=1, scale_pos_weight=1, subsample=1, tree_method='exact',\n",
       "             validate_parameters=1, verbosity=None)"
      ]
     },
     "execution_count": 19,
     "metadata": {},
     "output_type": "execute_result"
    }
   ],
   "source": [
    "# training model\n",
    "\n",
    "model.fit(X_train, Y_train)"
   ]
  },
  {
   "cell_type": "markdown",
   "id": "769e7bb2",
   "metadata": {
    "papermill": {
     "duration": 0.025898,
     "end_time": "2021-12-16T06:44:09.733868",
     "exception": false,
     "start_time": "2021-12-16T06:44:09.707970",
     "status": "completed"
    },
    "tags": []
   },
   "source": [
    "# Evaluation\n",
    "DataTraining prediction"
   ]
  },
  {
   "cell_type": "code",
   "execution_count": 20,
   "id": "01372b6d",
   "metadata": {
    "execution": {
     "iopub.execute_input": "2021-12-16T06:44:09.790433Z",
     "iopub.status.busy": "2021-12-16T06:44:09.789462Z",
     "iopub.status.idle": "2021-12-16T06:44:09.804127Z",
     "shell.execute_reply": "2021-12-16T06:44:09.804740Z",
     "shell.execute_reply.started": "2021-12-15T00:51:07.471438Z"
    },
    "papermill": {
     "duration": 0.04497,
     "end_time": "2021-12-16T06:44:09.804920",
     "exception": false,
     "start_time": "2021-12-16T06:44:09.759950",
     "status": "completed"
    },
    "tags": []
   },
   "outputs": [],
   "source": [
    "# melihat tingkat akurasi dari prediksi DataTraining\n",
    "DataTraining_prediction = model.predict(X_train)"
   ]
  },
  {
   "cell_type": "code",
   "execution_count": 21,
   "id": "db2160d1",
   "metadata": {
    "execution": {
     "iopub.execute_input": "2021-12-16T06:44:09.861144Z",
     "iopub.status.busy": "2021-12-16T06:44:09.860577Z",
     "iopub.status.idle": "2021-12-16T06:44:09.867835Z",
     "shell.execute_reply": "2021-12-16T06:44:09.868413Z",
     "shell.execute_reply.started": "2021-12-15T00:51:07.4859Z"
    },
    "papermill": {
     "duration": 0.037194,
     "end_time": "2021-12-16T06:44:09.868580",
     "exception": false,
     "start_time": "2021-12-16T06:44:09.831386",
     "status": "completed"
    },
    "tags": []
   },
   "outputs": [
    {
     "name": "stdout",
     "output_type": "stream",
     "text": [
      "[23.147501  20.99463   20.090284  34.69053   13.903663  13.510157\n",
      " 21.998634  15.1940975 10.899711  22.709627  13.832816   5.592794\n",
      " 29.810236  49.99096   34.89215   20.607384  23.351097  19.23555\n",
      " 32.695698  19.641418  26.991022   8.401829  46.00729   21.708961\n",
      " 27.062933  19.321356  19.288303  24.809872  22.61626   31.70493\n",
      " 18.542515   8.697379  17.395294  23.700663  13.304856  10.492197\n",
      " 12.688369  25.016556  19.67495   14.902088  24.193798  25.007143\n",
      " 14.900281  16.995798  15.6009035 12.699232  24.51537   14.999952\n",
      " 50.00104   17.525454  21.184624  31.998049  15.613355  22.89754\n",
      " 19.325378  18.717896  23.301125  37.222923  30.09486   33.102703\n",
      " 21.00072   49.999332  13.405827   5.0280113 16.492886   8.405072\n",
      " 28.64328   19.499939  20.586452  45.402164  39.79833   33.407326\n",
      " 19.83506   33.406372  25.271482  50.001534  12.521657  17.457413\n",
      " 18.61758   22.602625  50.002117  23.801117  23.317268  23.087355\n",
      " 41.700035  16.119293  31.620516  36.069206   7.0022025 20.3827\n",
      " 19.996452  11.986318  25.023014  49.970123  37.881588  23.123034\n",
      " 41.292133  17.596548  16.305374  30.034231  22.860699  19.810343\n",
      " 17.098848  18.898268  18.96717   22.606049  23.141363  33.183487\n",
      " 15.010934  11.693824  18.78828   20.80524   17.99983   19.68991\n",
      " 50.00332   17.207317  16.404053  17.520426  14.593481  33.110855\n",
      " 14.508482  43.821655  34.939106  20.381636  14.655634   8.094332\n",
      " 11.7662115 11.846876  18.69599    6.314154  23.983706  13.084503\n",
      " 19.603905  49.989143  22.300608  18.930315  31.197134  20.69645\n",
      " 32.21111   36.15102   14.240763  15.698188  49.99381   20.423601\n",
      " 16.184978  13.409128  50.01321   31.602146  12.271495  19.219482\n",
      " 29.794909  31.536846  22.798779  10.189648  24.08648   23.710463\n",
      " 21.991894  13.802495  28.420696  33.181534  13.105958  18.988266\n",
      " 26.576572  36.967175  30.794083  22.77071   10.201246  22.213818\n",
      " 24.483162  36.178806  23.09194   20.097307  19.470194  10.786644\n",
      " 22.671095  19.502405  20.109184   9.611871  42.799637  48.794792\n",
      " 13.097208  20.28583   24.793974  14.110478  21.701134  22.217012\n",
      " 33.003544  21.11041   25.00658   19.122992  32.398567  13.605098\n",
      " 15.1145315 23.088867  27.474783  19.364998  26.487135  27.499458\n",
      " 28.697094  21.21718   18.703201  26.775208  14.010719  21.692347\n",
      " 18.372562  43.11582   29.081839  20.289959  23.680176  18.308306\n",
      " 17.204844  18.320065  24.393475  26.396057  19.094141  13.3019905\n",
      " 22.15311   22.185797   8.516214  18.894428  21.792608  19.331121\n",
      " 18.197924   7.5006843 22.406403  20.004215  14.412416  22.503702\n",
      " 28.53306   21.591028  13.810223  20.497831  21.898977  23.104464\n",
      " 49.99585   16.242056  30.294561  50.001595  17.771557  19.053703\n",
      " 10.399217  20.378187  16.49973   17.183376  16.70228   19.495337\n",
      " 30.507633  28.98067   19.528809  23.148346  24.391027   9.521643\n",
      " 23.886024  49.995125  21.167099  22.597813  19.965279  13.4072275\n",
      " 19.948694  17.087479  12.738807  23.00453   15.222122  20.604322\n",
      " 26.207253  18.09243   24.090246  14.105     21.689667  20.08065\n",
      " 25.010437  27.874954  22.92366   18.509727  22.190847  24.004797\n",
      " 14.788686  19.89675   24.39812   17.796036  24.556297  31.970308\n",
      " 17.774675  23.356768  16.134794  13.009915  10.98219   24.28906\n",
      " 15.56895   35.209793  19.605724  42.301712   8.797891  24.400295\n",
      " 14.086652  15.408639  17.301126  22.127419  23.09363   44.79579\n",
      " 17.776684  31.50014   22.835577  16.888603  23.925127  12.097476\n",
      " 38.685944  21.388391  15.98878   23.912495  11.909485  24.960499\n",
      "  7.2018585 24.696215  18.201897  22.489008  23.03332   24.260433\n",
      " 17.101519  17.805563  13.493165  27.105328  13.311978  21.913465\n",
      " 20.00738   15.405392  16.595737  22.301016  24.708412  21.422579\n",
      " 22.878702  29.606575  21.877811  19.900253  29.605219  23.407152\n",
      " 13.781474  24.454706  11.897682   7.2203646 20.521074   9.725295\n",
      " 48.30087   25.19501   11.688618  17.404732  14.480284  28.618876\n",
      " 19.397131  22.468653   7.0117908 20.602013  22.970919  19.719397\n",
      " 23.693787  25.048244  27.977154  13.393578  14.513882  20.309145\n",
      " 19.306028  24.095829  14.894031  26.382381  33.298378  23.61644\n",
      " 24.591206  18.514652  20.900269  10.406055  23.303423  13.092017\n",
      " 24.675085  22.582184  20.502762  16.820635  10.220605  33.81239\n",
      " 18.608067  49.999187  23.775583  23.909609  21.192276  18.805798\n",
      "  8.502987  21.50807   23.204473  21.012218  16.611097  28.100965\n",
      " 21.193024  28.419638  14.294126  49.99958   30.988504  24.991066\n",
      " 21.433628  18.975573  28.991457  15.206939  22.817244  21.765755\n",
      " 19.915497  23.7961   ]\n"
     ]
    }
   ],
   "source": [
    "print(DataTraining_prediction)"
   ]
  },
  {
   "cell_type": "markdown",
   "id": "76d10cd3",
   "metadata": {
    "papermill": {
     "duration": 0.026522,
     "end_time": "2021-12-16T06:44:09.921644",
     "exception": false,
     "start_time": "2021-12-16T06:44:09.895122",
     "status": "completed"
    },
    "tags": []
   },
   "source": [
    "Membandingkan 'predictive value' dengan 'original value' menggunakan evaluation metrics. Dalam kasus regresi, kita menggunakan r squared error dan Mean Absolute Error (MAE)"
   ]
  },
  {
   "cell_type": "code",
   "execution_count": 22,
   "id": "16acd519",
   "metadata": {
    "execution": {
     "iopub.execute_input": "2021-12-16T06:44:09.979729Z",
     "iopub.status.busy": "2021-12-16T06:44:09.979083Z",
     "iopub.status.idle": "2021-12-16T06:44:09.983905Z",
     "shell.execute_reply": "2021-12-16T06:44:09.984433Z",
     "shell.execute_reply.started": "2021-12-15T00:51:07.495542Z"
    },
    "papermill": {
     "duration": 0.035777,
     "end_time": "2021-12-16T06:44:09.984616",
     "exception": false,
     "start_time": "2021-12-16T06:44:09.948839",
     "status": "completed"
    },
    "tags": []
   },
   "outputs": [],
   "source": [
    "# r squared error (rse)\n",
    "rse = metrics.r2_score(Y_train, DataTraining_prediction)\n",
    "\n",
    "# Mean Absolute Error (MAE)\n",
    "MAE = metrics.mean_absolute_error(Y_train, DataTraining_prediction)"
   ]
  },
  {
   "cell_type": "code",
   "execution_count": 23,
   "id": "e0ffabca",
   "metadata": {
    "execution": {
     "iopub.execute_input": "2021-12-16T06:44:10.041135Z",
     "iopub.status.busy": "2021-12-16T06:44:10.040541Z",
     "iopub.status.idle": "2021-12-16T06:44:10.046299Z",
     "shell.execute_reply": "2021-12-16T06:44:10.046746Z",
     "shell.execute_reply.started": "2021-12-15T00:51:07.509614Z"
    },
    "papermill": {
     "duration": 0.035737,
     "end_time": "2021-12-16T06:44:10.046921",
     "exception": false,
     "start_time": "2021-12-16T06:44:10.011184",
     "status": "completed"
    },
    "tags": []
   },
   "outputs": [
    {
     "name": "stdout",
     "output_type": "stream",
     "text": [
      "r squared error:  0.9999948236320982\n",
      "Mean Absolute Error:  0.0145848437110976\n",
      "r squared error dan mean absolute error menunjukkan hasil prediksi yang baik apabila nilainya kurang dari 5 dan 10\n"
     ]
    }
   ],
   "source": [
    "print('r squared error: ', rse)\n",
    "print('Mean Absolute Error: ', MAE)\n",
    "print('r squared error dan mean absolute error menunjukkan hasil prediksi yang baik apabila nilainya kurang dari 5 dan 10')"
   ]
  },
  {
   "cell_type": "code",
   "execution_count": 24,
   "id": "2d72afdc",
   "metadata": {
    "execution": {
     "iopub.execute_input": "2021-12-16T06:44:10.104222Z",
     "iopub.status.busy": "2021-12-16T06:44:10.103585Z",
     "iopub.status.idle": "2021-12-16T06:44:10.289757Z",
     "shell.execute_reply": "2021-12-16T06:44:10.289257Z",
     "shell.execute_reply.started": "2021-12-15T01:04:23.318564Z"
    },
    "papermill": {
     "duration": 0.215919,
     "end_time": "2021-12-16T06:44:10.289899",
     "exception": false,
     "start_time": "2021-12-16T06:44:10.073980",
     "status": "completed"
    },
    "tags": []
   },
   "outputs": [
    {
     "data": {
      "image/png": "[encoded data removed]",
      "text/plain": [
       "<Figure size 432x288 with 1 Axes>"
      ]
     },
     "metadata": {
      "needs_background": "light"
     },
     "output_type": "display_data"
    }
   ],
   "source": [
    "# Visualisasi Y_Train (real prices) vs DataTraining_prediction(predicted prices)\n",
    "plt.scatter(Y_train, DataTraining_prediction)\n",
    "plt.xlabel('Real Prices')\n",
    "plt.ylabel('Predicted Prices')\n",
    "plt.title('Prediksi Harga Rumah')\n",
    "plt.show()"
   ]
  },
  {
   "cell_type": "code",
   "execution_count": 25,
   "id": "9041997c",
   "metadata": {
    "execution": {
     "iopub.execute_input": "2021-12-16T06:44:10.350449Z",
     "iopub.status.busy": "2021-12-16T06:44:10.349754Z",
     "iopub.status.idle": "2021-12-16T06:44:10.356458Z",
     "shell.execute_reply": "2021-12-16T06:44:10.356944Z",
     "shell.execute_reply.started": "2021-12-15T00:51:07.52554Z"
    },
    "papermill": {
     "duration": 0.039535,
     "end_time": "2021-12-16T06:44:10.357148",
     "exception": false,
     "start_time": "2021-12-16T06:44:10.317613",
     "status": "completed"
    },
    "tags": []
   },
   "outputs": [],
   "source": [
    "#  DataTest Prediction\n",
    "# melihat tingkat akurasi dari prediksi DataTraining\n",
    "DataTest_prediction = model.predict(X_test)"
   ]
  },
  {
   "cell_type": "code",
   "execution_count": 26,
   "id": "42cc7304",
   "metadata": {
    "execution": {
     "iopub.execute_input": "2021-12-16T06:44:10.419371Z",
     "iopub.status.busy": "2021-12-16T06:44:10.418569Z",
     "iopub.status.idle": "2021-12-16T06:44:10.422142Z",
     "shell.execute_reply": "2021-12-16T06:44:10.423119Z",
     "shell.execute_reply.started": "2021-12-15T00:52:50.665421Z"
    },
    "papermill": {
     "duration": 0.038403,
     "end_time": "2021-12-16T06:44:10.423431",
     "exception": false,
     "start_time": "2021-12-16T06:44:10.385028",
     "status": "completed"
    },
    "tags": []
   },
   "outputs": [
    {
     "name": "stdout",
     "output_type": "stream",
     "text": [
      "[20.288406  20.60247   30.9758    29.910797   8.624953  14.235525\n",
      " 23.523052  29.730324  31.97293   22.015892  27.946804  24.034412\n",
      " 20.771402  21.849985  12.024127  22.074675  18.487509  11.052485\n",
      "  8.141267  15.730722  23.163914  20.233883  35.700928  19.041637\n",
      " 15.129744  20.228016  47.067314  30.426474  32.729023  17.345776\n",
      " 17.889462  19.40687   30.769133  25.431686  12.05332   17.900238\n",
      " 11.031679  21.109531  20.64321   21.982754  25.016281  12.648555\n",
      " 31.042107   7.106914  18.685764  14.380013  34.902393  16.130005\n",
      " 32.98537   10.950912  27.335018  29.399937   7.0065055 35.398712\n",
      " 22.978228  18.582758  19.224293  20.003431  15.341814  22.38517\n",
      " 19.077105  21.955967  18.91404   32.77595   32.76772   24.36317\n",
      " 48.262913  23.385014  10.551914  22.664684  14.671612   8.881822\n",
      " 16.700302  17.221045  26.204681  26.826794  21.590458  21.61216\n",
      " 19.662537  23.533224  33.25156   17.105299  19.517323  29.344427\n",
      " 48.885273  35.723255  18.257914  24.461905  27.235567  21.319864\n",
      " 21.661198  20.753967  11.241813  36.715706  37.199463   9.123582\n",
      " 43.117516  34.55289   22.041529  16.860765  29.876814  23.332623 ]\n"
     ]
    }
   ],
   "source": [
    "print(DataTest_prediction)"
   ]
  },
  {
   "cell_type": "code",
   "execution_count": 27,
   "id": "3322ae92",
   "metadata": {
    "execution": {
     "iopub.execute_input": "2021-12-16T06:44:10.489010Z",
     "iopub.status.busy": "2021-12-16T06:44:10.488363Z",
     "iopub.status.idle": "2021-12-16T06:44:10.491527Z",
     "shell.execute_reply": "2021-12-16T06:44:10.490885Z",
     "shell.execute_reply.started": "2021-12-15T00:53:35.005802Z"
    },
    "papermill": {
     "duration": 0.037855,
     "end_time": "2021-12-16T06:44:10.491719",
     "exception": false,
     "start_time": "2021-12-16T06:44:10.453864",
     "status": "completed"
    },
    "tags": []
   },
   "outputs": [],
   "source": [
    "# r squared error (rse)\n",
    "rse = metrics.r2_score(Y_test, DataTest_prediction)\n",
    "\n",
    "# Mean Absolute Error (MAE)\n",
    "MAE = metrics.mean_absolute_error(Y_test, DataTest_prediction)"
   ]
  },
  {
   "cell_type": "code",
   "execution_count": 28,
   "id": "ed176c3e",
   "metadata": {
    "execution": {
     "iopub.execute_input": "2021-12-16T06:44:10.552011Z",
     "iopub.status.busy": "2021-12-16T06:44:10.551059Z",
     "iopub.status.idle": "2021-12-16T06:44:10.556456Z",
     "shell.execute_reply": "2021-12-16T06:44:10.556857Z",
     "shell.execute_reply.started": "2021-12-15T00:54:08.540405Z"
    },
    "papermill": {
     "duration": 0.037131,
     "end_time": "2021-12-16T06:44:10.557025",
     "exception": false,
     "start_time": "2021-12-16T06:44:10.519894",
     "status": "completed"
    },
    "tags": []
   },
   "outputs": [
    {
     "name": "stdout",
     "output_type": "stream",
     "text": [
      "r squared error:  0.8711660369151691\n",
      "Mean Absolute Error:  2.2834744154238233\n"
     ]
    }
   ],
   "source": [
    "print('r squared error: ', rse)\n",
    "print('Mean Absolute Error: ', MAE)"
   ]
  },
  {
   "cell_type": "markdown",
   "id": "e1072d0b",
   "metadata": {
    "papermill": {
     "duration": 0.028006,
     "end_time": "2021-12-16T06:44:10.614040",
     "exception": false,
     "start_time": "2021-12-16T06:44:10.586034",
     "status": "completed"
    },
    "tags": []
   },
   "source": []
  },
  {
   "cell_type": "markdown",
   "id": "fac2c195",
   "metadata": {
    "papermill": {
     "duration": 0.028466,
     "end_time": "2021-12-16T06:44:10.672128",
     "exception": false,
     "start_time": "2021-12-16T06:44:10.643662",
     "status": "completed"
    },
    "tags": []
   },
   "source": []
  }
 ],
 "metadata": {
  "kernelspec": {
   "display_name": "Python 3",
   "language": "python",
   "name": "python3"
  },
  "language_info": {
   "codemirror_mode": {
    "name": "ipython",
    "version": 3
   },
   "file_extension": ".py",
   "mimetype": "text/x-python",
   "name": "python",
   "nbconvert_exporter": "python",
   "pygments_lexer": "ipython3",
   "version": "3.7.12"
  },
  "papermill": {
   "default_parameters": {},
   "duration": 14.569927,
   "end_time": "2021-12-16T06:44:11.410934",
   "environment_variables": {},
   "exception": null,
   "input_path": "__notebook__.ipynb",
   "output_path": "__notebook__.ipynb",
   "parameters": {},
   "start_time": "2021-12-16T06:43:56.841007",
   "version": "2.3.3"
  }
 },
 "nbformat": 4,
 "nbformat_minor": 5
}
